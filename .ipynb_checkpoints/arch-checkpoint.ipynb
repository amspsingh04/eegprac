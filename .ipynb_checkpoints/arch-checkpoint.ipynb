{
 "cells": [
  {
   "cell_type": "code",
   "execution_count": 1,
   "id": "fb66690f",
   "metadata": {},
   "outputs": [],
   "source": [
    "import os\n",
    "os.environ[\"TF_CPP_MIN_LOG_LEVEL\"] = '3'\n",
    "import pandas as pd\n",
    "import numpy as np\n",
    "import tensorflow as tf\n",
    "\n",
    "tf.Graph()\n",
    "\n",
    "# The Location of train_data，train_labels，test_data，test_labels\n",
    "# DataSet Address\n",
    "DIR = 'E:/eeg-prac/Dataset/Excels/'\n",
    "\n",
    "# Model Saver Address\n",
    "SAVE = 'E:/eeg-prac/Models/'"
   ]
  },
  {
   "cell_type": "code",
   "execution_count": 2,
   "id": "0630c9a9",
   "metadata": {},
   "outputs": [],
   "source": [
    "train_data = pd.read_csv(DIR + 'Training_labels.csv', header=None)\n",
    "train_data = np.array(train_data).astype('float32')\n",
    "\n",
    "train_labels = pd.read_csv(DIR + 'Training_labels.csv', header=None)\n",
    "train_labels = np.array(train_labels)\n",
    "\n",
    "test_data = pd.read_csv(DIR + 'Test_data.csv', header=None)\n",
    "test_data = np.array(test_data).astype('float32')\n",
    "\n",
    "test_labels = pd.read_csv(DIR + 'Test_labels.csv', header=None)\n",
    "test_labels = np.array(test_labels)"
   ]
  },
  {
   "cell_type": "code",
   "execution_count": 3,
   "id": "0d6b5423",
   "metadata": {},
   "outputs": [],
   "source": [
    "# Set Batch Size 64\n",
    "batch_size = 64\n",
    "n_batch = train_data.shape[0] // batch_size"
   ]
  },
  {
   "cell_type": "code",
   "execution_count": 4,
   "id": "eded1e43",
   "metadata": {},
   "outputs": [],
   "source": [
    "def weight_variable(shape):\n",
    "    initial = tf.random.truncated_normal(shape, stddev=0.01)\n",
    "    return tf.Variable(initial)\n",
    "\n",
    "def bias_variable(shape):\n",
    "    initial = tf.constant(0.01, shape=shape)\n",
    "    return tf.Variable(initial)\n",
    "\n",
    "def variable_summaries(name, var):\n",
    "    with tf.name_scope('summaries'):\n",
    "        mean = tf.reduce_mean(var)\n",
    "        tf.summary.scalar('mean/'+ name, mean)\n",
    "\n",
    "        with tf.name_scope('stddev'):\n",
    "            stddev = tf.sqrt(tf.reduce_mean(tf.square(var - mean)))\n",
    "            tf.summary.scalar('stddev/'+name, stddev)\n",
    "\n",
    "        tf.summary.scalar('max/'+name, tf.reduce_max(var))\n",
    "        tf.summary.scalar('min/'+name, tf.reduce_min(var))\n",
    "        tf.summary.histogram('histogram/'+name, var)\n",
    "        "
   ]
  },
  {
   "cell_type": "code",
   "execution_count": 5,
   "id": "0a7687d3",
   "metadata": {},
   "outputs": [],
   "source": [
    "from tensorflow.keras import layers\n",
    "from tensorflow.keras.models import Model\n",
    "\n",
    "input_shape = (640,)\n",
    "inputs = tf.keras.Input(shape=input_shape, name='Input_Data')\n",
    "x_reshape = layers.Reshape((32, 20, 1), name='Reshape_Data')(inputs)"
   ]
  },
  {
   "cell_type": "code",
   "execution_count": 6,
   "id": "4b40e9cd",
   "metadata": {},
   "outputs": [],
   "source": [
    "from tensorflow.keras import layers, models, initializers, regularizers\n",
    "model = models.Sequential()\n"
   ]
  },
  {
   "cell_type": "code",
   "execution_count": 7,
   "id": "da819153",
   "metadata": {},
   "outputs": [],
   "source": [
    "model.add(layers.Conv2D(\n",
    "    filters=32, \n",
    "    kernel_size=(3, 3),\n",
    "    strides=(1, 1),\n",
    "    padding='SAME',\n",
    "    use_bias=True,\n",
    "    kernel_initializer=initializers.TruncatedNormal(stddev=0.01),\n",
    "    bias_initializer=initializers.Constant(value=0.01),\n",
    "    name='Convolutional_1'\n",
    "))\n",
    "model.add(layers.LeakyReLU(name='h_conv1_Acti'))\n",
    "model.add(layers.Dropout(\n",
    "    rate=0.5,  # replace 0.5 with your dropout rate\n",
    "    name='h_conv1_drop'\n",
    "))"
   ]
  },
  {
   "cell_type": "code",
   "execution_count": 8,
   "id": "a0d7c5b1",
   "metadata": {},
   "outputs": [],
   "source": [
    "model.add(layers.Conv2D(\n",
    "    filters=32, \n",
    "    kernel_size=(3, 3),\n",
    "    strides=(1, 1),\n",
    "    padding='SAME',\n",
    "    use_bias=True,\n",
    "    kernel_initializer=tf.keras.initializers.TruncatedNormal(stddev=0.01),\n",
    "    bias_initializer=tf.keras.initializers.Constant(value=0.01),\n",
    "    name='Convolutional_2'\n",
    "))\n",
    "model.add(layers.BatchNormalization(name='h_conv2_BN'))\n",
    "model.add(layers.Dropout(rate=0.5, name='h_conv2_drop'))\n"
   ]
  },
  {
   "cell_type": "code",
   "execution_count": 9,
   "id": "9448407b",
   "metadata": {},
   "outputs": [],
   "source": [
    "model.add(layers.Conv2D(\n",
    "    filters=64,\n",
    "    kernel_size=(3, 3),\n",
    "    strides=(1, 1),\n",
    "    padding='SAME',\n",
    "    use_bias=True,\n",
    "    kernel_initializer=tf.keras.initializers.TruncatedNormal(stddev=0.01),\n",
    "    bias_initializer=tf.keras.initializers.Constant(value=0.01),\n",
    "    name='Convolutional_3'\n",
    "))\n",
    "model.add(layers.LeakyReLU(name='h_conv3_Acti'))\n",
    "model.add(layers.Dropout(rate=0.5, name='h_conv3_drop'))"
   ]
  },
  {
   "cell_type": "code",
   "execution_count": 11,
   "id": "2993b622",
   "metadata": {},
   "outputs": [],
   "source": [
    "model.add(layers.MaxPooling2D(\n",
    "    pool_size=(2, 2),\n",
    "    strides=(2, 2),\n",
    "    padding='SAME',\n",
    "    name='Pooling_1'\n",
    "))"
   ]
  },
  {
   "cell_type": "code",
   "execution_count": 10,
   "id": "e64311d3",
   "metadata": {},
   "outputs": [],
   "source": [
    "model.add(layers.Conv2D(\n",
    "    filters=64,\n",
    "    kernel_size=(3, 3),\n",
    "    strides=(1, 1),\n",
    "    padding='VALID',  \n",
    "    use_bias=True,\n",
    "    kernel_initializer=tf.keras.initializers.TruncatedNormal(stddev=0.01),\n",
    "    bias_initializer=tf.keras.initializers.Constant(value=0.01),\n",
    "    name='Convolutional_4'\n",
    "))"
   ]
  },
  {
   "cell_type": "code",
   "execution_count": 20,
   "id": "02e331d3",
   "metadata": {},
   "outputs": [],
   "source": [
    "model.compile(optimizer='adam',\n",
    "              loss='categorical_crossentropy',\n",
    "              metrics=['accuracy'])\n"
   ]
  },
  {
   "cell_type": "code",
   "execution_count": null,
   "id": "6faf38b5",
   "metadata": {},
   "outputs": [],
   "source": []
  }
 ],
 "metadata": {
  "kernelspec": {
   "display_name": "Python 3 (ipykernel)",
   "language": "python",
   "name": "python3"
  },
  "language_info": {
   "codemirror_mode": {
    "name": "ipython",
    "version": 3
   },
   "file_extension": ".py",
   "mimetype": "text/x-python",
   "name": "python",
   "nbconvert_exporter": "python",
   "pygments_lexer": "ipython3",
   "version": "3.11.4"
  }
 },
 "nbformat": 4,
 "nbformat_minor": 5
}
